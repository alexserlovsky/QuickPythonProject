{
 "cells": [
  {
   "cell_type": "code",
   "execution_count": 23,
   "id": "ac62bc2c-a7b7-4c18-963f-af81ac5dad34",
   "metadata": {
    "tags": []
   },
   "outputs": [
    {
     "name": "stdout",
     "output_type": "stream",
     "text": [
      "aaadede\n"
     ]
    }
   ],
   "source": [
    "#Define a Python function called isWellFormed that takes one argument, s\n",
    "def isWellFormed(s):\n",
    "    \n",
    "#Initialize the variable stack, used as a stack to keep track of numbers and partial results\n",
    "    stack = []\n",
    "    \n",
    "#Starts a loop that iterates through each character in the input string s\n",
    "    for char in s:\n",
    "        \n",
    "#If the current character is an opening square bracket [, the code enters this block.\n",
    "        if char == '[':\n",
    "        \n",
    "#In this block, we append the opening square bracket [ to the stack. This is done to keep track of the open brackets in the string\n",
    "            stack.append(char)\n",
    "    \n",
    "#If the current character is a closing square bracket ], the code enters this block\n",
    "        elif char == ']':\n",
    "        \n",
    "#Check whether the stack is empty or if the top element of the stack (the last opening bracket) is not [. If true, the square brackets are not well-formed, and will return False\n",
    "            if not stack or stack.pop() != '[':\n",
    "                return False\n",
    "#Returns if not a stack\n",
    "    return not stack\n",
    "\n",
    "#Define a Python function called decodeString that takes one argument, s\n",
    "def decodeString(s): \n",
    "    \n",
    "#stack, used as a stack to keep track of numbers and partial results; \n",
    "#currentNum, to store the current number being parsed; \n",
    "#currentStr, to build the current substring\n",
    "    stack = []\n",
    "    currentNum = 0\n",
    "    currentStr = \"\"\n",
    "\n",
    "#starts a loop that iterates through each character in the input string s\n",
    "    for char in s:\n",
    "\n",
    "#If the current character is a digit, it's part of a number it will convert it to be an integer and add it to the currentNum variable\n",
    "        if char.isdigit():\n",
    "            currentNum = currentNum + int(char)\n",
    "\n",
    "#If the character is '[', it is the start of a new section to be repeated this will be pushed to the current number (currentNum) and the current string (currentStr) onto the stack. Then, reset current_num and current_str to start the new section.\n",
    "        elif char == '[':\n",
    "            stack.append((currentNum, currentStr))\n",
    "            currentNum = 0\n",
    "            currentStr = \"\"\n",
    "\n",
    "#If the character is  ']', it is the end of a repeated section so it will pop the top element from the stack, which contains the number of repetitions (num) and the previous string (prevStr) this is then updates currentStr by repeating it num times and appending it to prevStr.\n",
    "        elif char == ']':\n",
    "            num, prevStr = stack.pop()\n",
    "            currentStr = prevStr + num * currentStr\n",
    "\n",
    "#If the encoded values do not match the above conditions, then concat the current string with the given character. Meaning, it's a regular character, so it will be appended to the currentStr.\n",
    "        else:\n",
    "            currentStr += char\n",
    "#Return the decoded string in the variable currentStr\n",
    "    return currentStr\n",
    "\n",
    "#Test:\n",
    "encodedStr = \"3[a]2[de]\"\n",
    "decodedStr = decodeString(encodedStr)\n",
    "print(decodedStr)\n"
   ]
  },
  {
   "cell_type": "code",
   "execution_count": null,
   "id": "57c441ab-8433-4f62-9978-23e93faad81b",
   "metadata": {},
   "outputs": [],
   "source": []
  }
 ],
 "metadata": {
  "kernelspec": {
   "display_name": "Python 3 (ipykernel)",
   "language": "python",
   "name": "python3"
  },
  "language_info": {
   "codemirror_mode": {
    "name": "ipython",
    "version": 3
   },
   "file_extension": ".py",
   "mimetype": "text/x-python",
   "name": "python",
   "nbconvert_exporter": "python",
   "pygments_lexer": "ipython3",
   "version": "3.11.4"
  }
 },
 "nbformat": 4,
 "nbformat_minor": 5
}
